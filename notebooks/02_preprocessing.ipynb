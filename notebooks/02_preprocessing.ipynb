{
 "cells": [
  {
   "cell_type": "markdown",
   "id": "33023e4b",
   "metadata": {},
   "source": [
    "\n",
    "# 02 — Preprocessing\n",
    "\n",
    "**Goal:** Prepare the Elliptic AML dataset for modeling by cleaning features, mapping labels, removing highly correlated columns, making a **time-aware** train/validation/test split, and standardizing features.  \n",
    "This notebook is **self-contained** and does **not** depend on any external `.py` files.\n",
    "\n",
    "**What you'll get out at the end:**\n",
    "- Cleaned feature set with high-correlation columns removed\n",
    "- Time-based train/valid/test splits\n",
    "- Standardized feature matrices (`X_train`, `X_valid`, `X_test`) and labels\n",
    "- Saved artifacts (splits, scaler, and metadata) for use in `03_modeling.ipynb`\n"
   ]
  },
  {
   "cell_type": "markdown",
   "id": "3004fbb2",
   "metadata": {},
   "source": [
    "\n",
    "## 1. Imports & Configuration\n",
    "\n",
    "We import common libraries and set a fixed random seed for reproducibility.  \n",
    "If a folder does not exist, we create it.\n"
   ]
  },
  {
   "cell_type": "code",
   "execution_count": 15,
   "id": "2969efb3",
   "metadata": {},
   "outputs": [
    {
     "name": "stdout",
     "output_type": "stream",
     "text": [
      "Raw: /Users/o/Desktop/projects/elliptic-aml-analysis/data/raw\n",
      "Interim: /Users/o/Desktop/projects/elliptic-aml-analysis/data/interim\n",
      "Processed: /Users/o/Desktop/projects/elliptic-aml-analysis/data/processed\n"
     ]
    }
   ],
   "source": [
    "\n",
    "import os\n",
    "import json\n",
    "from pathlib import Path\n",
    "\n",
    "import numpy as np\n",
    "import pandas as pd\n",
    "import matplotlib.pyplot as plt\n",
    "\n",
    "from sklearn.preprocessing import StandardScaler\n",
    "import joblib\n",
    "\n",
    "# --- Reproducibility ---\n",
    "RANDOM_SEED = 42\n",
    "np.random.seed(RANDOM_SEED)\n",
    "\n",
    "# --- Project paths (relative to this notebook) ---\n",
    "DATA_RAW = Path(\"../data/raw\")                     # put original CSVs here\n",
    "DATA_INTERIM = Path(\"../data/interim\")             # temporary outputs (IDs etc.)\n",
    "DATA_PROCESSED = Path(\"../data/processed\")         # processed data for modeling\n",
    "\n",
    "for p in [DATA_INTERIM, DATA_PROCESSED]:\n",
    "    p.mkdir(parents=True, exist_ok=True)\n",
    "\n",
    "print(\"Raw:\", DATA_RAW.resolve())\n",
    "print(\"Interim:\", DATA_INTERIM.resolve())\n",
    "print(\"Processed:\", DATA_PROCESSED.resolve())\n"
   ]
  },
  {
   "cell_type": "markdown",
   "id": "61c0f3ab",
   "metadata": {},
   "source": [
    "\n",
    "## 2. Load Data & Run Basic Integrity Checks\n",
    "\n",
    "We expect three CSVs from the Elliptic dataset:\n",
    "\n",
    "- `elliptic_txs_features.csv`\n",
    "- `elliptic_txs_edgelist.csv`\n",
    "- `elliptic_txs_classes.csv`\n",
    "\n",
    "We check shapes, uniqueness of `txId`, and whether edge endpoints exist in the classes table.\n"
   ]
  },
  {
   "cell_type": "code",
   "execution_count": 16,
   "id": "6483c23c",
   "metadata": {},
   "outputs": [
    {
     "name": "stdout",
     "output_type": "stream",
     "text": [
      "features: (203769, 167)\n",
      "edges: (234355, 2)\n",
      "classes: (203769, 2)\n",
      "NULLs in features: 0, duplicate edges: 0\n",
      "\n",
      "Basic integrity checks: OK ✅\n"
     ]
    }
   ],
   "source": [
    "\n",
    "# --- Load CSVs ---\n",
    "features = pd.read_csv(DATA_RAW / \"elliptic_txs_features.csv\", header=None)\n",
    "edges    = pd.read_csv(DATA_RAW / \"elliptic_txs_edgelist.csv\")\n",
    "classes  = pd.read_csv(DATA_RAW / \"elliptic_txs_classes.csv\")\n",
    "\n",
    "print(\"features:\", features.shape)\n",
    "print(\"edges:\", edges.shape)\n",
    "print(\"classes:\", classes.shape)\n",
    "\n",
    "# --- Basic checks ---\n",
    "assert features.shape[0] == classes.shape[0], \"Features and classes must have the same number of rows (aligned by txId).\"\n",
    "assert classes['txId'].is_unique, \"txId should be unique in classes.\"\n",
    "\n",
    "nulls = features.isna().sum().sum()\n",
    "dups_edges = edges.duplicated().sum()\n",
    "print(f\"NULLs in features: {nulls}, duplicate edges: {dups_edges}\")\n",
    "\n",
    "# Ensure graph endpoints exist in the classes list\n",
    "assert set(edges['txId1']).issubset(set(classes['txId'])), \"Some txId1 are missing in classes.\"\n",
    "assert set(edges['txId2']).issubset(set(classes['txId'])), \"Some txId2 are missing in classes.\"\n",
    "\n",
    "print(\"\\nBasic integrity checks: OK ✅\")\n"
   ]
  },
  {
   "cell_type": "markdown",
   "id": "f4af677a",
   "metadata": {},
   "source": [
    "\n",
    "## 3. Label Mapping (Binary Supervised Subset)\n",
    "\n",
    "We map labels to **binary** targets for supervised learning:\n",
    "\n",
    "- `1` (illicit) → `1`\n",
    "- `2` (licit) → `0`\n",
    "- `unknown` → dropped for the **supervised** subset\n",
    "\n",
    "We keep a separate mask so that you can build semi-supervised methods later (in other notebooks) using the full dataset.\n"
   ]
  },
  {
   "cell_type": "code",
   "execution_count": 17,
   "id": "c305e75d",
   "metadata": {},
   "outputs": [
    {
     "name": "stdout",
     "output_type": "stream",
     "text": [
      "Supervised subset size: (46564, 168) ; Positives: 4545 ; Negatives: 42019\n"
     ]
    }
   ],
   "source": [
    "\n",
    "# Attach txId to features so we can track rows after filtering\n",
    "features = features.copy()\n",
    "features['txId'] = classes['txId']\n",
    "\n",
    "# Map original labels to {1: illicit, 0: licit}, unknown -> NaN\n",
    "label_map = {'1':1, 1:1, '2':0, 2:0, 'unknown':np.nan}\n",
    "y_raw = classes['class'].map(label_map)\n",
    "\n",
    "# Build supervised subset (drop unknowns)\n",
    "mask_sup = y_raw.notna()\n",
    "y_sup = y_raw[mask_sup].astype(int).reset_index(drop=True)\n",
    "feat_sup = features.loc[mask_sup].reset_index(drop=True)\n",
    "\n",
    "print(\"Supervised subset size:\", feat_sup.shape, \"; Positives:\", int((y_sup==1).sum()), \"; Negatives:\", int((y_sup==0).sum()))\n"
   ]
  },
  {
   "cell_type": "markdown",
   "id": "034a8caa",
   "metadata": {},
   "source": [
    "\n",
    "## 4. Feature Cleaning\n",
    "\n",
    "**Why?** In AML datasets, many features are anonymized and some may be near-duplicate (highly correlated).  \n",
    "Removing constant/near-zero-variance and **very** highly correlated features helps reduce redundancy and improves model stability.\n",
    "\n",
    "**Steps:**\n",
    "1. Drop constant columns.\n",
    "2. Drop one of any pair of features whose absolute correlation > **0.98**.\n"
   ]
  },
  {
   "cell_type": "code",
   "execution_count": 18,
   "id": "66f21a26",
   "metadata": {},
   "outputs": [
    {
     "name": "stdout",
     "output_type": "stream",
     "text": [
      "Dropped 46 highly correlated columns (threshold=0.98). Remaining features: 121\n"
     ]
    }
   ],
   "source": [
    "\n",
    "# Numeric columns (all except txId, which we added at the end)\n",
    "num_cols = [c for c in feat_sup.columns if c != 'txId']\n",
    "\n",
    "# 1) Drop constant columns\n",
    "nunique = feat_sup[num_cols].nunique()\n",
    "keep = nunique[nunique > 1].index.tolist()\n",
    "feat_sup = feat_sup[['txId'] + keep]\n",
    "\n",
    "# 2) Drop highly correlated columns (> 0.98)\n",
    "X = feat_sup.drop(columns=['txId'])\n",
    "corr = X.corr().abs()\n",
    "upper = corr.where(np.triu(np.ones(corr.shape), k=1).astype(bool))\n",
    "to_drop = [col for col in upper.columns if any(upper[col] > 0.98)]\n",
    "feat_sup = feat_sup.drop(columns=to_drop)\n",
    "\n",
    "print(f\"Dropped {len(to_drop)} highly correlated columns (threshold=0.98). Remaining features: {feat_sup.shape[1]-1}\")\n"
   ]
  },
  {
   "cell_type": "markdown",
   "id": "715a9c76",
   "metadata": {},
   "source": [
    "\n",
    "### Quick Visualization: Correlation Heatmap (Before vs After)\n",
    "\n",
    "We compare correlation structure **before** and **after** dropping highly correlated features.  \n",
    "For readability, we only plot the **first 40 columns**.\n"
   ]
  },
  {
   "cell_type": "code",
   "execution_count": 28,
   "id": "536d1fd0",
   "metadata": {},
   "outputs": [
    {
     "data": {
      "image/png": "[encoded data removed]",
      "text/plain": [
       "<Figure size 1000x800 with 2 Axes>"
      ]
     },
     "metadata": {},
     "output_type": "display_data"
    },
    {
     "data": {
      "image/png": "[encoded data removed]",
      "text/plain": [
       "<Figure size 1000x800 with 2 Axes>"
      ]
     },
     "metadata": {},
     "output_type": "display_data"
    },
    {
     "data": {
      "text/html": [
       "<div>\n",
       "<style scoped>\n",
       "    .dataframe tbody tr th:only-of-type {\n",
       "        vertical-align: middle;\n",
       "    }\n",
       "\n",
       "    .dataframe tbody tr th {\n",
       "        vertical-align: top;\n",
       "    }\n",
       "\n",
       "    .dataframe thead th {\n",
       "        text-align: right;\n",
       "    }\n",
       "</style>\n",
       "<table border=\"1\" class=\"dataframe\">\n",
       "  <thead>\n",
       "    <tr style=\"text-align: right;\">\n",
       "      <th></th>\n",
       "      <th>n_features_before</th>\n",
       "      <th>n_features_after</th>\n",
       "      <th>memory_before_MB</th>\n",
       "      <th>memory_after_MB</th>\n",
       "      <th>mean_abs_corr_before</th>\n",
       "      <th>mean_abs_corr_after</th>\n",
       "    </tr>\n",
       "  </thead>\n",
       "  <tbody>\n",
       "    <tr>\n",
       "      <th>0</th>\n",
       "      <td>167</td>\n",
       "      <td>121</td>\n",
       "      <td>259.62</td>\n",
       "      <td>42.99</td>\n",
       "      <td>0.074438</td>\n",
       "      <td>0.087468</td>\n",
       "    </tr>\n",
       "  </tbody>\n",
       "</table>\n",
       "</div>"
      ],
      "text/plain": [
       "   n_features_before  n_features_after  memory_before_MB  memory_after_MB  \\\n",
       "0                167               121            259.62            42.99   \n",
       "\n",
       "   mean_abs_corr_before  mean_abs_corr_after  \n",
       "0              0.074438             0.087468  "
      ]
     },
     "metadata": {},
     "output_type": "display_data"
    }
   ],
   "source": [
    "# === Correlation heatmap before vs after deduplication ===\n",
    "from pathlib import Path\n",
    "import numpy as np\n",
    "import pandas as pd\n",
    "import matplotlib.pyplot as plt\n",
    "\n",
    "# 1) Rebuild a \"before deduplication\" feature matrix from raw data\n",
    "feat_rebuild = features.copy()\n",
    "feat_rebuild['txId'] = classes['txId']\n",
    "\n",
    "num_cols0 = [c for c in feat_rebuild.columns if c != 'txId']\n",
    "nunique0 = feat_rebuild[num_cols0].nunique()\n",
    "keep0 = nunique0[nunique0 > 1].index.tolist()\n",
    "\n",
    "feat_before = feat_rebuild[['txId'] + keep0].copy()\n",
    "X_before = feat_before.drop(columns=['txId'])\n",
    "\n",
    "# 2) Use the already deduplicated feature matrix as \"after\"\n",
    "X_after = feat_sup.drop(columns=['txId'])\n",
    "\n",
    "# 3) Function to plot correlation heatmap\n",
    "def plot_corr_heatmap(X, title, max_cols=40):\n",
    "    \"\"\"\n",
    "    Plot a correlation heatmap using the first `max_cols` features.\n",
    "    Shows the full symmetric correlation matrix (not masked).\n",
    "    \"\"\"\n",
    "    cols = X.columns[:max_cols]\n",
    "    corr = X[cols].corr()\n",
    "\n",
    "    plt.figure(figsize=(10, 8))\n",
    "    im = plt.imshow(corr, cmap=\"coolwarm\", vmin=-1, vmax=1)\n",
    "    plt.title(title)\n",
    "    cbar = plt.colorbar(im, fraction=0.046, pad=0.04)\n",
    "    cbar.set_label(\"Pearson correlation\")\n",
    "    plt.xticks(range(len(cols)), cols, rotation=90, fontsize=6)\n",
    "    plt.yticks(range(len(cols)), cols, fontsize=6)\n",
    "    plt.tight_layout()\n",
    "    plt.show()\n",
    "\n",
    "# 4) Plot before and after\n",
    "plot_corr_heatmap(X_before, \"Correlation Heatmap (Before Deduplication)\")\n",
    "plot_corr_heatmap(X_after, \"Correlation Heatmap (After Deduplication)\")\n",
    "\n",
    "# 5) Simple comparison table: number of features, memory usage, mean correlation\n",
    "def mem_mb(df): \n",
    "    return round(df.memory_usage(deep=True).sum() / 1024**2, 2)\n",
    "\n",
    "compare = pd.DataFrame({\n",
    "    \"n_features_before\": [X_before.shape[1]],\n",
    "    \"n_features_after\":  [X_after.shape[1]],\n",
    "    \"memory_before_MB\":  [mem_mb(X_before)],\n",
    "    \"memory_after_MB\":   [mem_mb(X_after)],\n",
    "    \"mean_abs_corr_before\": [float(np.nanmean(np.abs(X_before.corr().values)))],\n",
    "    \"mean_abs_corr_after\":  [float(np.nanmean(np.abs(X_after.corr().values)))]\n",
    "})\n",
    "display(compare)\n"
   ]
  },
  {
   "cell_type": "markdown",
   "id": "353cd2eb",
   "metadata": {},
   "source": [
    "### Analysis of Correlation Heatmaps\n",
    "\n",
    "#### Before Deduplication\n",
    "\n",
    "- The diagonal red line shows self-correlation (=1).\n",
    "\n",
    "- Several dense red clusters appear off the diagonal, indicating groups of features that are almost perfectly correlated (>0.98).\n",
    "\n",
    "- Such redundancy often occurs in derived or anonymized datasets, where multiple indicators encode nearly identical information.\n",
    "\n",
    "- Keeping them risks overfitting and slows down training without adding predictive power.\n",
    "\n",
    "#### After Deduplication\n",
    "\n",
    "- The redundant clusters largely disappear.\n",
    "\n",
    "- The overall correlation structure becomes more sparse, with fewer near-perfect correlations.\n",
    "\n",
    "- This confirms that 46 features were safely removed, leaving 121 unique signals.\n",
    "\n",
    "#### Why It Matters\n",
    "\n",
    "- Reducing multicollinearity improves model stability, especially for linear models and logistic regression.\n",
    "\n",
    "- Training efficiency increases since models no longer waste resources learning from duplicate signals.\n",
    "\n",
    "- The cleaned feature matrix now provides a stronger foundation for downstream fraud detection tasks."
   ]
  },
  {
   "cell_type": "markdown",
   "id": "a04654fd",
   "metadata": {},
   "source": [
    "\n",
    "## 5. Persist Results (Dropped List + Cleaned Features)\n",
    "\n",
    "We save:\n",
    "- the list of dropped columns  \n",
    "- the cleaned feature table (Parquet preferred; fallback to CSV to avoid local engine issues)\n"
   ]
  },
  {
   "cell_type": "code",
   "execution_count": 21,
   "id": "8eb2befa",
   "metadata": {},
   "outputs": [
    {
     "name": "stdout",
     "output_type": "stream",
     "text": [
      "Saved dropped columns list -> ../data/processed/dropped_highcorr_cols.txt\n",
      "Saved Parquet (pyarrow) -> ../data/processed/features_dedup.parquet\n"
     ]
    }
   ],
   "source": [
    "\n",
    "# Save dropped columns list\n",
    "dropped_path = DATA_PROCESSED / \"dropped_highcorr_cols.txt\"\n",
    "with open(dropped_path, \"w\") as f:\n",
    "    for col in to_drop:\n",
    "        f.write(f\"{col}\\n\")\n",
    "print(\"Saved dropped columns list ->\", dropped_path)\n",
    "\n",
    "# Save cleaned features with fallback\n",
    "out_feat = feat_sup.copy()\n",
    "parquet_path = DATA_PROCESSED / \"features_dedup.parquet\"\n",
    "csv_path     = DATA_PROCESSED / \"features_dedup.csv\"\n",
    "\n",
    "# Normalize dtypes to avoid Arrow extension type issues\n",
    "numeric_like = out_feat.select_dtypes(include=[\"number\", \"bool\"]).columns.tolist()\n",
    "for c in out_feat.columns:\n",
    "    if c in numeric_like:\n",
    "        out_feat[c] = pd.to_numeric(out_feat[c], errors=\"coerce\")\n",
    "    else:\n",
    "        out_feat[c] = out_feat[c].astype(\"object\")\n",
    "\n",
    "saved = False\n",
    "try:\n",
    "    out_feat.to_parquet(parquet_path, index=False, engine=\"pyarrow\")\n",
    "    print(\"Saved Parquet (pyarrow) ->\", parquet_path)\n",
    "    saved = True\n",
    "except Exception as e1:\n",
    "    print(\"pyarrow failed:\", repr(e1))\n",
    "    try:\n",
    "        out_feat.to_parquet(parquet_path, index=False, engine=\"fastparquet\")\n",
    "        print(\"Saved Parquet (fastparquet) ->\", parquet_path)\n",
    "        saved = True\n",
    "    except Exception as e2:\n",
    "        print(\"fastparquet failed:\", repr(e2))\n",
    "\n",
    "if not saved:\n",
    "    out_feat.to_csv(csv_path, index=False)\n",
    "    print(\"Fallback: saved CSV ->\", csv_path)\n"
   ]
  },
  {
   "cell_type": "markdown",
   "id": "21a84ae0",
   "metadata": {},
   "source": [
    "\n",
    "## 6. Time-Aware Split (Train/Valid/Test)\n",
    "\n",
    "The dataset has a **timestep** in the first feature column (`column 0`).  \n",
    "We split by time to mimic real-world evaluation:\n",
    "\n",
    "- Train: first 70% (by time)\n",
    "- Valid: next 10%\n",
    "- Test: last 20%\n"
   ]
  },
  {
   "cell_type": "code",
   "execution_count": 22,
   "id": "756d2183",
   "metadata": {},
   "outputs": [
    {
     "name": "stdout",
     "output_type": "stream",
     "text": [
      "Train/Valid/Test sizes: (32595, 124) (4656, 124) (9313, 124)\n"
     ]
    }
   ],
   "source": [
    "\n",
    "# Extract timestep from column 0 (please verify for your dataset version)\n",
    "timestep_col = 0\n",
    "\n",
    "df = feat_sup.copy()\n",
    "df['timestep'] = df[timestep_col]\n",
    "\n",
    "# Align labels with the supervised subset\n",
    "df['label'] = y_sup\n",
    "\n",
    "# Sort and split by time quantiles\n",
    "df = df.sort_values('timestep').reset_index(drop=True)\n",
    "ts = df['timestep'].values\n",
    "\n",
    "t1 = np.quantile(ts, 0.7)\n",
    "t2 = np.quantile(ts, 0.8)\n",
    "\n",
    "train_idx = df['timestep'] <= t1\n",
    "valid_idx = (df['timestep'] > t1) & (df['timestep'] <= t2)\n",
    "test_idx  = df['timestep'] > t2\n",
    "\n",
    "train = df.loc[train_idx].reset_index(drop=True)\n",
    "valid = df.loc[valid_idx].reset_index(drop=True)\n",
    "test  = df.loc[test_idx].reset_index(drop=True)\n",
    "\n",
    "print(\"Train/Valid/Test sizes:\", train.shape, valid.shape, test.shape)\n"
   ]
  },
  {
   "cell_type": "markdown",
   "id": "a34b2f21",
   "metadata": {},
   "source": [
    "\n",
    "## 7. Standardization (Fit on Train Only)\n",
    "\n",
    "We standardize numeric features with `StandardScaler` fitted **only on the training set** to avoid data leakage.\n"
   ]
  },
  {
   "cell_type": "code",
   "execution_count": 23,
   "id": "3b9fdd6b",
   "metadata": {},
   "outputs": [
    {
     "name": "stdout",
     "output_type": "stream",
     "text": [
      "Standardization done. Shapes: (32595, 121) (4656, 121) (9313, 121)\n"
     ]
    }
   ],
   "source": [
    "\n",
    "feature_cols = [c for c in df.columns if c not in ['txId','label','timestep']]\n",
    "scaler = StandardScaler()\n",
    "\n",
    "X_train = train[feature_cols].copy()\n",
    "X_valid = valid[feature_cols].copy()\n",
    "X_test  = test[feature_cols].copy()\n",
    "\n",
    "scaler.fit(X_train)\n",
    "X_train_s = scaler.transform(X_train)\n",
    "X_valid_s = scaler.transform(X_valid)\n",
    "X_test_s  = scaler.transform(X_test)\n",
    "\n",
    "y_train = train['label'].values\n",
    "y_valid = valid['label'].values\n",
    "y_test  = test['label'].values\n",
    "\n",
    "print(\"Standardization done. Shapes:\", X_train_s.shape, X_valid_s.shape, X_test_s.shape)\n"
   ]
  },
  {
   "cell_type": "markdown",
   "id": "e5120239",
   "metadata": {},
   "source": [
    "\n",
    "## 8. Save Artifacts\n",
    "\n",
    "We persist standardized matrices (`X_train`, `X_valid`, `X_test`), labels, split IDs, the `StandardScaler`, and metadata for full reproducibility.\n"
   ]
  },
  {
   "cell_type": "code",
   "execution_count": 24,
   "id": "d734c250",
   "metadata": {},
   "outputs": [
    {
     "name": "stdout",
     "output_type": "stream",
     "text": [
      "Saved: ../data/processed/X_train.parquet\n",
      "Saved: ../data/processed/X_valid.parquet\n",
      "Saved: ../data/processed/X_test.parquet\n",
      "Saved: ../data/processed/y_train.parquet\n",
      "Saved: ../data/processed/y_valid.parquet\n",
      "Saved: ../data/processed/y_test.parquet\n",
      "Saved IDs: ../data/interim/train_ids.parquet\n",
      "Saved IDs: ../data/interim/valid_ids.parquet\n",
      "Saved IDs: ../data/interim/test_ids.parquet\n",
      "Saved scaler -> ../data/processed/scaler.joblib\n",
      "Saved metadata -> ../data/processed/metadata.json\n"
     ]
    }
   ],
   "source": [
    "\n",
    "# Save matrices (use Parquet; if engine fails in your local env, switch to CSV as fallback)\n",
    "def _to_parquet_or_csv(df, path_base):\n",
    "    \"\"\"Save a DataFrame to Parquet, fallback to CSV if needed.\"\"\"\n",
    "    p = DATA_PROCESSED / f\"{path_base}.parquet\"\n",
    "    c = DATA_PROCESSED / f\"{path_base}.csv\"\n",
    "    try:\n",
    "        df.to_parquet(p, index=False)\n",
    "        print(\"Saved:\", p)\n",
    "    except Exception as e:\n",
    "        print(\"Parquet failed:\", repr(e), \"-> saving CSV instead.\")\n",
    "        df.to_csv(c, index=False)\n",
    "        print(\"Saved:\", c)\n",
    "\n",
    "_to_parquet_or_csv(pd.DataFrame(X_train_s, columns=feature_cols), \"X_train\")\n",
    "_to_parquet_or_csv(pd.DataFrame(X_valid_s, columns=feature_cols), \"X_valid\")\n",
    "_to_parquet_or_csv(pd.DataFrame(X_test_s,  columns=feature_cols), \"X_test\" )\n",
    "\n",
    "_to_parquet_or_csv(pd.Series(y_train, name=\"label\").to_frame(), \"y_train\")\n",
    "_to_parquet_or_csv(pd.Series(y_valid, name=\"label\").to_frame(), \"y_valid\")\n",
    "_to_parquet_or_csv(pd.Series(y_test,  name=\"label\").to_frame(), \"y_test\" )\n",
    "\n",
    "# Save split IDs for debugging/plots\n",
    "def _to_parquet_ids(df_ids, path_base):\n",
    "    p = DATA_INTERIM / f\"{path_base}.parquet\"\n",
    "    try:\n",
    "        df_ids.to_parquet(p, index=False)\n",
    "        print(\"Saved IDs:\", p)\n",
    "    except Exception as e:\n",
    "        print(\"Parquet failed for IDs:\", repr(e), \"-> saving CSV instead.\")\n",
    "        c = DATA_INTERIM / f\"{path_base}.csv\"\n",
    "        df_ids.to_csv(c, index=False)\n",
    "        print(\"Saved IDs:\", c)\n",
    "\n",
    "_to_parquet_ids(train[['txId','timestep']], \"train_ids\")\n",
    "_to_parquet_ids(valid[['txId','timestep']], \"valid_ids\")\n",
    "_to_parquet_ids(test[['txId','timestep']],  \"test_ids\" )\n",
    "\n",
    "# Save scaler\n",
    "scaler_path = DATA_PROCESSED / \"scaler.joblib\"\n",
    "joblib.dump(scaler, scaler_path)\n",
    "print(\"Saved scaler ->\", scaler_path)\n",
    "\n",
    "# Metadata\n",
    "meta = {\n",
    "    \"random_seed\": RANDOM_SEED,\n",
    "    \"dropped_high_corr\": [str(c) for c in to_drop],\n",
    "    \"feature_cols\": feature_cols,\n",
    "    \"timestep_quantiles\": {\"train<=q0.7\": float(t1), \"valid<=q0.8\": float(t2)},\n",
    "    \"samples\": {\"train\": int(len(train)), \"valid\": int(len(valid)), \"test\": int(len(test))}\n",
    "}\n",
    "with open(DATA_PROCESSED/\"metadata.json\", \"w\") as f:\n",
    "    json.dump(meta, f, indent=2)\n",
    "print(\"Saved metadata ->\", DATA_PROCESSED/\"metadata.json\")\n"
   ]
  },
  {
   "cell_type": "markdown",
   "id": "0f235dbc",
   "metadata": {},
   "source": [
    "\n",
    "## 9. Quick QA Checks\n",
    "\n",
    "We validate label balance per split and confirm time boundaries do not leak.\n"
   ]
  },
  {
   "cell_type": "code",
   "execution_count": 25,
   "id": "e2504375",
   "metadata": {},
   "outputs": [
    {
     "name": "stdout",
     "output_type": "stream",
     "text": [
      "('train', {0: 29936, 1: 2659})\n",
      "('valid', {0: 4096, 1: 560})\n",
      "('test', {0: 7987, 1: 1326})\n",
      "\n",
      "Time boundaries:\n",
      "train max timestep: 232908843.0\n",
      "valid min/max timestep: 232909272.0 283195182.0\n",
      "test  min timestep: 283195332.0\n",
      "Time boundary checks: OK ✅\n"
     ]
    }
   ],
   "source": [
    "\n",
    "def label_counts(name, y):\n",
    "    unique, counts = np.unique(y, return_counts=True)\n",
    "    return name, dict(zip(unique.tolist(), counts.tolist()))\n",
    "\n",
    "for name, y in [(\"train\", y_train), (\"valid\", y_valid), (\"test\", y_test)]:\n",
    "    print(label_counts(name, y))\n",
    "\n",
    "print(\"\\nTime boundaries:\")\n",
    "print(\"train max timestep:\", float(train['timestep'].max()))\n",
    "print(\"valid min/max timestep:\", float(valid['timestep'].min()), float(valid['timestep'].max()))\n",
    "print(\"test  min timestep:\", float(test['timestep'].min()))\n",
    "assert train['timestep'].max() <= valid['timestep'].min() or len(valid)==0, \"Check time order around train/valid boundary.\"\n",
    "assert valid['timestep'].max() <= test['timestep'].min() or len(valid)==0, \"Check time order around valid/test boundary.\"\n",
    "print(\"Time boundary checks: OK ✅\")\n"
   ]
  },
  {
   "cell_type": "code",
   "execution_count": null,
   "id": "45a24cf3",
   "metadata": {},
   "outputs": [],
   "source": []
  }
 ],
 "metadata": {
  "kernelspec": {
   "display_name": ".venv",
   "language": "python",
   "name": "python3"
  },
  "language_info": {
   "codemirror_mode": {
    "name": "ipython",
    "version": 3
   },
   "file_extension": ".py",
   "mimetype": "text/x-python",
   "name": "python",
   "nbconvert_exporter": "python",
   "pygments_lexer": "ipython3",
   "version": "3.13.2"
  }
 },
 "nbformat": 4,
 "nbformat_minor": 5
}
