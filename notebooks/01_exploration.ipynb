{
 "cells": [
  {
   "cell_type": "markdown",
   "metadata": {},
   "source": [
    "# Elliptic AML Dataset Exploration\n",
    "Initial exploration and visualization of the dataset."
   ]
  },
  {
   "cell_type": "markdown",
   "metadata": {},
   "source": [
    "###  Workflow Overview\n",
    "\n",
    "This notebook performs the following steps:\n",
    "\n",
    "1. Load and inspect raw CSV files from the Elliptic dataset\n",
    "2. Construct a transaction graph using NetworkX\n",
    "3. Calculate key graph metrics (e.g., PageRank, Degree)\n",
    "4. Identify the largest connected component (LCC)\n",
    "5. Visualize graph structure\n",
    "6. Prepare for merging features and labels for classification\n",
    "\n"
   ]
  },
  {
   "cell_type": "markdown",
   "metadata": {
    "tags": [
     "parameters"
    ]
   },
   "source": [
    "### Extract zip file"
   ]
  },
  {
   "cell_type": "code",
   "execution_count": 2,
   "metadata": {},
   "outputs": [
    {
     "name": "stdout",
     "output_type": "stream",
     "text": [
      "✅ Dataset extracted.\n"
     ]
    }
   ],
   "source": [
    "import zipfile, os, pathlib\n",
    "\n",
    "RAW_DIR = pathlib.Path(\"../data/raw\")\n",
    "DATA_DIR = pathlib.Path(\"../data/elliptic_bitcoin_dataset\")\n",
    "ZIP_PATH = RAW_DIR / \"archive.zip\"   # Adjust if your zip file has another name\n",
    "\n",
    "def extracted_ok(data_dir: pathlib.Path):\n",
    "    return data_dir.exists() and all(\n",
    "        (data_dir / fname).exists() for fname in [\n",
    "            \"elliptic_txs_features.csv\",\n",
    "            \"elliptic_txs_edgelist.csv\",\n",
    "            \"elliptic_txs_classes.csv\",\n",
    "        ]\n",
    "    )\n",
    "\n",
    "if not extracted_ok(DATA_DIR):\n",
    "    if ZIP_PATH.exists():\n",
    "        DATA_DIR.parent.mkdir(parents=True, exist_ok=True)\n",
    "        with zipfile.ZipFile(ZIP_PATH, \"r\") as z:\n",
    "            z.extractall(DATA_DIR.parent)  \n",
    "        print(\"✅ Dataset extracted.\")\n",
    "    else:\n",
    "        print(f\"❌ Zip not found: {ZIP_PATH}\")\n",
    "else:\n",
    "    print(\"✅ Dataset already extracted at:\", DATA_DIR)\n"
   ]
  },
  {
   "cell_type": "markdown",
   "metadata": {},
   "source": [
    "### Loading the Dataset\n",
    "\n",
    "We load the three core CSV files: node features, edge list, and class labels."
   ]
  },
  {
   "cell_type": "code",
   "execution_count": 3,
   "metadata": {},
   "outputs": [],
   "source": [
    "import pandas as pd\n",
    "import networkx as nx\n",
    "import matplotlib.pyplot as plt\n",
    "\n",
    "features_df = pd.read_csv(DATA_DIR / \"elliptic_txs_features.csv\", header=None)\n",
    "edges_df    = pd.read_csv(DATA_DIR / \"elliptic_txs_edgelist.csv\")\n",
    "classes_df  = pd.read_csv(DATA_DIR / \"elliptic_txs_classes.csv\")"
   ]
  },
  {
   "cell_type": "markdown",
   "metadata": {},
   "source": [
    "###  Exploring Dataset Shapes and Missing Values\n",
    "\n",
    "Let’s inspect the number of rows and columns in each dataset and identify any missing values."
   ]
  },
  {
   "cell_type": "code",
   "execution_count": 4,
   "metadata": {},
   "outputs": [
    {
     "name": "stdout",
     "output_type": "stream",
     "text": [
      "Features shape: (203769, 167)\n",
      "Edges shape: (234355, 2)\n",
      "Classes shape: (203769, 2)\n",
      "Missing values in features: 0\n"
     ]
    }
   ],
   "source": [
    "# Sanity checks\n",
    "assert len(features_df) == len(classes_df), \"Mismatch: features vs classes rows\"\n",
    "assert classes_df[\"txId\"].is_unique, \"Duplicate txId in classes\"\n",
    "\n",
    "edge_nodes = set(edges_df[\"txId1\"]).union(set(edges_df[\"txId2\"]))\n",
    "class_nodes = set(classes_df[\"txId\"])\n",
    "missing_in_class = edge_nodes - class_nodes\n",
    "assert len(missing_in_class) == 0, f\"{len(missing_in_class)} edge nodes not found in classes\"\n",
    "\n",
    "print(\"Features shape:\", features_df.shape)\n",
    "print(\"Edges shape:\", edges_df.shape)\n",
    "print(\"Classes shape:\", classes_df.shape)\n",
    "print(\"Missing values in features:\", features_df.isna().sum().sum())"
   ]
  },
  {
   "cell_type": "markdown",
   "metadata": {},
   "source": [
    "### Visualizing Class Distribution\n",
    "\n",
    "We plot how many transactions are labeled as illicit, licit, or unknown."
   ]
  },
  {
   "cell_type": "code",
   "execution_count": 5,
   "metadata": {},
   "outputs": [
    {
     "data": {
      "image/png": "[encoded data removed]",
      "text/plain": [
       "<Figure size 640x480 with 1 Axes>"
      ]
     },
     "metadata": {},
     "output_type": "display_data"
    },
    {
     "name": "stdout",
     "output_type": "stream",
     "text": [
      "Supervised subset size: 46564 / 203769\n",
      "Supervised label counts: {0.0: 42019, 1.0: 4545}\n"
     ]
    }
   ],
   "source": [
    "ax = classes_df[\"class\"].value_counts().reindex([\"1\",\"2\",\"unknown\"]).fillna(0).plot(\n",
    "    kind=\"bar\", color=[\"red\",\"green\",\"gray\"]\n",
    ")\n",
    "plt.title(\"Class Distribution (raw)\")\n",
    "plt.xticks(rotation=0)\n",
    "plt.xlabel(\"class (1=illicit, 2=licit, unknown)\")\n",
    "plt.ylabel(\"count\")\n",
    "plt.show()\n",
    "\n",
    "# Supervised subset: drop 'unknown' and map illicit=1, licit=0\n",
    "label_map = {\"1\":1, \"2\":0, 1:1, 2:0}\n",
    "y_raw = classes_df[\"class\"].map(label_map)\n",
    "mask_supervised = y_raw.notna()\n",
    "print(\"Supervised subset size:\", mask_supervised.sum(), \"/\", len(y_raw))\n",
    "print(\"Supervised label counts:\", y_raw[mask_supervised].value_counts().to_dict())\n"
   ]
  },
  {
   "cell_type": "markdown",
   "metadata": {},
   "source": [
    "### Class Distribution\n",
    "\n",
    "- The majority of transactions (~158k) are labeled as **unknown**.\n",
    "- Legitimate (class 2) transactions are around ~42k, while illicit (class 1) transactions are only ~4k.\n",
    "- This is a **heavily imbalanced classification problem**, common in fraud detection.\n",
    "- We will need to consider strategies like class weights or oversampling later."
   ]
  },
  {
   "cell_type": "markdown",
   "metadata": {},
   "source": [
    "### Constructing and Inspecting the Transaction Graph\n",
    "\n",
    "We use NetworkX to construct a graph and inspect its basic statistics."
   ]
  },
  {
   "cell_type": "code",
   "execution_count": 6,
   "metadata": {},
   "outputs": [
    {
     "name": "stdout",
     "output_type": "stream",
     "text": [
      "✅ Graph Summary:\n",
      "Number of nodes: 203769\n",
      "Number of edges: 234355\n",
      "Is directed?: False\n",
      "Number of connected components: 49\n"
     ]
    }
   ],
   "source": [
    "G = nx.from_pandas_edgelist(edges_df, \"txId1\", \"txId2\")\n",
    "\n",
    "print(\"✅ Graph Summary:\")\n",
    "print(f\"Number of nodes: {G.number_of_nodes()}\")\n",
    "print(f\"Number of edges: {G.number_of_edges()}\")\n",
    "print(f\"Is directed?: {G.is_directed()}\")\n",
    "print(f\"Number of connected components: {nx.number_connected_components(G)}\")\n"
   ]
  },
  {
   "cell_type": "markdown",
   "metadata": {},
   "source": [
    "### Transaction Graph Structure\n",
    "\n",
    "- Total nodes: `203,769`, Edges: `234,355`.\n",
    "- The graph is **undirected** and contains `49` connected components.\n",
    "- This means some transaction networks are isolated.\n",
    "- Understanding graph structure helps us later apply graph algorithms or GNNs."
   ]
  },
  {
   "cell_type": "markdown",
   "metadata": {},
   "source": [
    "### Graph Centrality Measures\n",
    "In this step, centrality measures help identify *important nodes* in the transaction graph.\n",
    "We compute:\n",
    "- **Degree Centrality**: Measures how many direct connections a node has.\n",
    "- **PageRank**: Captures the influence of a node in the graph.\n",
    "These metrics allow us to detect potentially suspicious accounts that play a key role in the money flow network — possibly acting as intermediaries or \"mixers\"."
   ]
  },
  {
   "cell_type": "code",
   "execution_count": 7,
   "metadata": {},
   "outputs": [
    {
     "name": "stdout",
     "output_type": "stream",
     "text": [
      "Graph (full): |V|=203769, |E|=234355, components=49\n",
      "LCC: |V|=7880, |E|=9164\n"
     ]
    },
    {
     "data": {
      "text/html": [
       "<div>\n",
       "<style scoped>\n",
       "    .dataframe tbody tr th:only-of-type {\n",
       "        vertical-align: middle;\n",
       "    }\n",
       "\n",
       "    .dataframe tbody tr th {\n",
       "        vertical-align: top;\n",
       "    }\n",
       "\n",
       "    .dataframe thead th {\n",
       "        text-align: right;\n",
       "    }\n",
       "</style>\n",
       "<table border=\"1\" class=\"dataframe\">\n",
       "  <thead>\n",
       "    <tr style=\"text-align: right;\">\n",
       "      <th></th>\n",
       "      <th>txId</th>\n",
       "      <th>degree_centrality</th>\n",
       "      <th>pagerank</th>\n",
       "    </tr>\n",
       "  </thead>\n",
       "  <tbody>\n",
       "    <tr>\n",
       "      <th>0</th>\n",
       "      <td>4947969</td>\n",
       "      <td>0.000254</td>\n",
       "      <td>0.000127</td>\n",
       "    </tr>\n",
       "    <tr>\n",
       "      <th>1</th>\n",
       "      <td>4947974</td>\n",
       "      <td>0.000254</td>\n",
       "      <td>0.000127</td>\n",
       "    </tr>\n",
       "    <tr>\n",
       "      <th>2</th>\n",
       "      <td>4947979</td>\n",
       "      <td>0.000254</td>\n",
       "      <td>0.000127</td>\n",
       "    </tr>\n",
       "    <tr>\n",
       "      <th>3</th>\n",
       "      <td>4947982</td>\n",
       "      <td>0.000254</td>\n",
       "      <td>0.000127</td>\n",
       "    </tr>\n",
       "    <tr>\n",
       "      <th>4</th>\n",
       "      <td>82706446</td>\n",
       "      <td>0.000127</td>\n",
       "      <td>0.000077</td>\n",
       "    </tr>\n",
       "  </tbody>\n",
       "</table>\n",
       "</div>"
      ],
      "text/plain": [
       "       txId  degree_centrality  pagerank\n",
       "0   4947969           0.000254  0.000127\n",
       "1   4947974           0.000254  0.000127\n",
       "2   4947979           0.000254  0.000127\n",
       "3   4947982           0.000254  0.000127\n",
       "4  82706446           0.000127  0.000077"
      ]
     },
     "execution_count": 7,
     "metadata": {},
     "output_type": "execute_result"
    }
   ],
   "source": [
    "# Build full graph\n",
    "G_full = nx.from_pandas_edgelist(edges_df, \"txId1\", \"txId2\", create_using=nx.Graph)\n",
    "print(f\"Graph (full): |V|={G_full.number_of_nodes()}, |E|={G_full.number_of_edges()}, components={nx.number_connected_components(G_full)}\")\n",
    "\n",
    "# Extract the Largest Connected Component (LCC)\n",
    "components = sorted(nx.connected_components(G_full), key=len, reverse=True)\n",
    "G = G_full.subgraph(components[0]).copy()\n",
    "print(f\"LCC: |V|={G.number_of_nodes()}, |E|={G.number_of_edges()}\")\n",
    "\n",
    "# Compute centrality measures\n",
    "deg_cent = nx.degree_centrality(G)\n",
    "pagerank_scores = nx.pagerank(G)\n",
    "\n",
    "centrality_df = pd.DataFrame({\n",
    "    \"txId\": list(deg_cent.keys()),\n",
    "    \"degree_centrality\": list(deg_cent.values()),\n",
    "    \"pagerank\": [pagerank_scores[n] for n in deg_cent.keys()]\n",
    "})\n",
    "centrality_df.head()\n"
   ]
  },
  {
   "cell_type": "markdown",
   "metadata": {},
   "source": [
    "### Visualizing Subgraphs or Communities\n",
    "We plot a sample subgraph to understand the network structure and spot potential community clusters or suspicious flows.\n"
   ]
  },
  {
   "cell_type": "code",
   "execution_count": 13,
   "metadata": {},
   "outputs": [
    {
     "data": {
      "image/png": "[encoded data removed]",
      "text/plain": [
       "<Figure size 1000x800 with 1 Axes>"
      ]
     },
     "metadata": {},
     "output_type": "display_data"
    }
   ],
   "source": [
    "# --- Subgraph of Top 100 Nodes by Degree Centrality ---\n",
    "\n",
    "# 1. Select top 100 nodes based on degree centrality\n",
    "top_nodes = centrality_df.sort_values(\"degree_centrality\", ascending=False).head(100)[\"txId\"].tolist()\n",
    "\n",
    "# 2. Extract subgraph\n",
    "subG = G.subgraph(top_nodes)\n",
    "\n",
    "# 3. Layout for visualization\n",
    "pos = nx.spring_layout(subG, seed=42)\n",
    "\n",
    "# 4. Node size scaled by PageRank (influence)\n",
    "node_sizes = [pagerank_scores.get(n, 0) * 10000 for n in subG.nodes()]\n",
    "\n",
    "# 5. Plot\n",
    "plt.figure(figsize=(10, 8))\n",
    "nx.draw_networkx(\n",
    "    subG,\n",
    "    pos,\n",
    "    with_labels=False,\n",
    "    node_size=node_sizes,\n",
    "    node_color=\"skyblue\",\n",
    "    edge_color=\"gray\",\n",
    "    alpha=0.7\n",
    ")\n",
    "plt.title(\"Top 100 Nodes by Degree Centrality — Node size ~ PageRank\")\n",
    "plt.axis(\"off\")\n",
    "plt.show()\n"
   ]
  },
  {
   "cell_type": "code",
   "execution_count": 15,
   "metadata": {},
   "outputs": [],
   "source": [
    "# 重新获取 top 100 节点（按 degree centrality 排名）\n",
    "top_nodes = centrality_df.sort_values(\"degree_centrality\", ascending=False).head(100)[\"txId\"].tolist()\n",
    "\n",
    "# 从原始图中提取子图\n",
    "sample_subG = G.subgraph(top_nodes)\n"
   ]
  },
  {
   "cell_type": "markdown",
   "metadata": {},
   "source": [
    "### Why We Visualize the Largest Connected Component?\n",
    "\n",
    "While the top-degree nodes appeared structurally disconnected, the largest connected component (LCC) provides a much more meaningful snapshot of the actual transaction network.\n",
    "\n",
    "The LCC contains all nodes that are reachable from one another, making it a suitable candidate for:\n",
    "\n",
    "- Fraud detection using graph-based models\n",
    "- Community detection or role inference\n",
    "- Graph Neural Networks (GNN) input preprocessing\n",
    "\n",
    "Although the full graph may contain many isolated or irrelevant nodes, the LCC reflects the *core transaction structure* where laundering and propagation likely happen.\n",
    "\n",
    "In fraud analytics, analyzing the LCC helps us focus on the *network backbone* — where the real action is.\n"
   ]
  },
  {
   "cell_type": "markdown",
   "metadata": {},
   "source": [
    "### Merging Features + Labels\n",
    "We merge transaction features, graph centrality scores, and fraud labels to build a dataset for modeling."
   ]
  },
  {
   "cell_type": "code",
   "execution_count": 10,
   "metadata": {},
   "outputs": [
    {
     "name": "stdout",
     "output_type": "stream",
     "text": [
      "Merged shape (LCC): (7880, 172)\n"
     ]
    },
    {
     "data": {
      "text/html": [
       "<div>\n",
       "<style scoped>\n",
       "    .dataframe tbody tr th:only-of-type {\n",
       "        vertical-align: middle;\n",
       "    }\n",
       "\n",
       "    .dataframe tbody tr th {\n",
       "        vertical-align: top;\n",
       "    }\n",
       "\n",
       "    .dataframe thead th {\n",
       "        text-align: right;\n",
       "    }\n",
       "</style>\n",
       "<table border=\"1\" class=\"dataframe\">\n",
       "  <thead>\n",
       "    <tr style=\"text-align: right;\">\n",
       "      <th></th>\n",
       "      <th>0</th>\n",
       "      <th>1</th>\n",
       "      <th>2</th>\n",
       "      <th>3</th>\n",
       "      <th>4</th>\n",
       "      <th>5</th>\n",
       "      <th>6</th>\n",
       "      <th>7</th>\n",
       "      <th>8</th>\n",
       "      <th>9</th>\n",
       "      <th>...</th>\n",
       "      <th>162</th>\n",
       "      <th>163</th>\n",
       "      <th>164</th>\n",
       "      <th>165</th>\n",
       "      <th>166</th>\n",
       "      <th>txId</th>\n",
       "      <th>degree_centrality</th>\n",
       "      <th>pagerank</th>\n",
       "      <th>class_raw</th>\n",
       "      <th>label_supervised</th>\n",
       "    </tr>\n",
       "  </thead>\n",
       "  <tbody>\n",
       "    <tr>\n",
       "      <th>0</th>\n",
       "      <td>230425980</td>\n",
       "      <td>1</td>\n",
       "      <td>-0.171469</td>\n",
       "      <td>-0.184668</td>\n",
       "      <td>-1.201369</td>\n",
       "      <td>-0.121970</td>\n",
       "      <td>-0.043875</td>\n",
       "      <td>-0.113002</td>\n",
       "      <td>-0.061584</td>\n",
       "      <td>-0.162097</td>\n",
       "      <td>...</td>\n",
       "      <td>-0.087490</td>\n",
       "      <td>-0.131155</td>\n",
       "      <td>-0.097524</td>\n",
       "      <td>-0.120613</td>\n",
       "      <td>-0.119792</td>\n",
       "      <td>230425980</td>\n",
       "      <td>0.000254</td>\n",
       "      <td>0.000131</td>\n",
       "      <td>unknown</td>\n",
       "      <td>NaN</td>\n",
       "    </tr>\n",
       "    <tr>\n",
       "      <th>1</th>\n",
       "      <td>5530458</td>\n",
       "      <td>1</td>\n",
       "      <td>-0.171484</td>\n",
       "      <td>-0.184668</td>\n",
       "      <td>-1.201369</td>\n",
       "      <td>-0.121970</td>\n",
       "      <td>-0.043875</td>\n",
       "      <td>-0.113002</td>\n",
       "      <td>-0.061584</td>\n",
       "      <td>-0.162112</td>\n",
       "      <td>...</td>\n",
       "      <td>-0.087490</td>\n",
       "      <td>-0.131155</td>\n",
       "      <td>-0.097524</td>\n",
       "      <td>-0.120613</td>\n",
       "      <td>-0.119792</td>\n",
       "      <td>5530458</td>\n",
       "      <td>0.000254</td>\n",
       "      <td>0.000142</td>\n",
       "      <td>unknown</td>\n",
       "      <td>NaN</td>\n",
       "    </tr>\n",
       "    <tr>\n",
       "      <th>2</th>\n",
       "      <td>232022460</td>\n",
       "      <td>1</td>\n",
       "      <td>-0.172107</td>\n",
       "      <td>-0.184668</td>\n",
       "      <td>-1.201369</td>\n",
       "      <td>-0.121970</td>\n",
       "      <td>-0.043875</td>\n",
       "      <td>-0.113002</td>\n",
       "      <td>-0.061584</td>\n",
       "      <td>-0.162749</td>\n",
       "      <td>...</td>\n",
       "      <td>-0.106715</td>\n",
       "      <td>-0.131155</td>\n",
       "      <td>-0.183671</td>\n",
       "      <td>-0.120613</td>\n",
       "      <td>-0.119792</td>\n",
       "      <td>232022460</td>\n",
       "      <td>0.000381</td>\n",
       "      <td>0.000158</td>\n",
       "      <td>unknown</td>\n",
       "      <td>NaN</td>\n",
       "    </tr>\n",
       "    <tr>\n",
       "      <th>3</th>\n",
       "      <td>232438397</td>\n",
       "      <td>1</td>\n",
       "      <td>0.163054</td>\n",
       "      <td>1.963790</td>\n",
       "      <td>-0.646376</td>\n",
       "      <td>12.409294</td>\n",
       "      <td>-0.063725</td>\n",
       "      <td>9.782742</td>\n",
       "      <td>12.414558</td>\n",
       "      <td>-0.163645</td>\n",
       "      <td>...</td>\n",
       "      <td>0.085530</td>\n",
       "      <td>-0.131155</td>\n",
       "      <td>0.677799</td>\n",
       "      <td>-0.120613</td>\n",
       "      <td>-0.119792</td>\n",
       "      <td>232438397</td>\n",
       "      <td>0.020434</td>\n",
       "      <td>0.006917</td>\n",
       "      <td>2</td>\n",
       "      <td>0.0</td>\n",
       "    </tr>\n",
       "    <tr>\n",
       "      <th>4</th>\n",
       "      <td>230460314</td>\n",
       "      <td>1</td>\n",
       "      <td>1.011523</td>\n",
       "      <td>-0.081127</td>\n",
       "      <td>-1.201369</td>\n",
       "      <td>1.153668</td>\n",
       "      <td>0.333276</td>\n",
       "      <td>1.312656</td>\n",
       "      <td>-0.061584</td>\n",
       "      <td>-0.163523</td>\n",
       "      <td>...</td>\n",
       "      <td>0.277775</td>\n",
       "      <td>0.326394</td>\n",
       "      <td>1.293750</td>\n",
       "      <td>0.178136</td>\n",
       "      <td>0.179117</td>\n",
       "      <td>230460314</td>\n",
       "      <td>0.001269</td>\n",
       "      <td>0.000242</td>\n",
       "      <td>unknown</td>\n",
       "      <td>NaN</td>\n",
       "    </tr>\n",
       "  </tbody>\n",
       "</table>\n",
       "<p>5 rows × 172 columns</p>\n",
       "</div>"
      ],
      "text/plain": [
       "           0  1         2         3         4          5         6         7  \\\n",
       "0  230425980  1 -0.171469 -0.184668 -1.201369  -0.121970 -0.043875 -0.113002   \n",
       "1    5530458  1 -0.171484 -0.184668 -1.201369  -0.121970 -0.043875 -0.113002   \n",
       "2  232022460  1 -0.172107 -0.184668 -1.201369  -0.121970 -0.043875 -0.113002   \n",
       "3  232438397  1  0.163054  1.963790 -0.646376  12.409294 -0.063725  9.782742   \n",
       "4  230460314  1  1.011523 -0.081127 -1.201369   1.153668  0.333276  1.312656   \n",
       "\n",
       "           8         9  ...       162       163       164       165       166  \\\n",
       "0  -0.061584 -0.162097  ... -0.087490 -0.131155 -0.097524 -0.120613 -0.119792   \n",
       "1  -0.061584 -0.162112  ... -0.087490 -0.131155 -0.097524 -0.120613 -0.119792   \n",
       "2  -0.061584 -0.162749  ... -0.106715 -0.131155 -0.183671 -0.120613 -0.119792   \n",
       "3  12.414558 -0.163645  ...  0.085530 -0.131155  0.677799 -0.120613 -0.119792   \n",
       "4  -0.061584 -0.163523  ...  0.277775  0.326394  1.293750  0.178136  0.179117   \n",
       "\n",
       "        txId  degree_centrality  pagerank  class_raw  label_supervised  \n",
       "0  230425980           0.000254  0.000131    unknown               NaN  \n",
       "1    5530458           0.000254  0.000142    unknown               NaN  \n",
       "2  232022460           0.000381  0.000158    unknown               NaN  \n",
       "3  232438397           0.020434  0.006917          2               0.0  \n",
       "4  230460314           0.001269  0.000242    unknown               NaN  \n",
       "\n",
       "[5 rows x 172 columns]"
      ]
     },
     "execution_count": 10,
     "metadata": {},
     "output_type": "execute_result"
    }
   ],
   "source": [
    "# Add txId column\n",
    "features_df = features_df.copy()\n",
    "features_df[\"txId\"] = classes_df[\"txId\"]\n",
    "\n",
    "# Keep only nodes from the LCC\n",
    "features_lcc = features_df[features_df[\"txId\"].isin(centrality_df[\"txId\"])].reset_index(drop=True)\n",
    "classes_lcc  = classes_df[classes_df[\"txId\"].isin(centrality_df[\"txId\"])].reset_index(drop=True)\n",
    "\n",
    "# Merge features + centrality\n",
    "merged_df = features_lcc.merge(centrality_df, on=\"txId\", how=\"left\")\n",
    "merged_df[\"class_raw\"] = classes_lcc[\"class\"]\n",
    "merged_df[\"label_supervised\"] = classes_lcc[\"class\"].map(label_map)  # 0/1 or NaN\n",
    "\n",
    "print(\"Merged shape (LCC):\", merged_df.shape)\n",
    "merged_df.head()\n"
   ]
  },
  {
   "cell_type": "markdown",
   "metadata": {},
   "source": [
    "## Next Steps\n",
    "\n"
   ]
  },
  {
   "cell_type": "code",
   "execution_count": 11,
   "metadata": {},
   "outputs": [
    {
     "name": "stdout",
     "output_type": "stream",
     "text": [
      "Supervised subset in LCC:\n",
      "{0.0: 2130, 1.0: 17}\n",
      "\n",
      "Next step: Notebook 2 (Preprocessing) will handle feature deduplication, temporal splits, and scaling.\n"
     ]
    }
   ],
   "source": [
    "print(\"Supervised subset in LCC:\")\n",
    "print(merged_df[\"label_supervised\"].value_counts(dropna=True).to_dict())\n",
    "\n",
    "print(\"\\nNext step: Notebook 2 (Preprocessing) will handle feature deduplication, temporal splits, and scaling.\")\n"
   ]
  },
  {
   "cell_type": "code",
   "execution_count": null,
   "metadata": {},
   "outputs": [],
   "source": []
  }
 ],
 "metadata": {
  "kernelspec": {
   "display_name": ".venv",
   "language": "python",
   "name": "python3"
  },
  "language_info": {
   "codemirror_mode": {
    "name": "ipython",
    "version": 3
   },
   "file_extension": ".py",
   "mimetype": "text/x-python",
   "name": "python",
   "nbconvert_exporter": "python",
   "pygments_lexer": "ipython3",
   "version": "3.13.2"
  }
 },
 "nbformat": 4,
 "nbformat_minor": 2
}
